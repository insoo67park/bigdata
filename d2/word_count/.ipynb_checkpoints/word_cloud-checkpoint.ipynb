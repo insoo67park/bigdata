{
 "cells": [
  {
   "cell_type": "code",
   "execution_count": null,
   "metadata": {},
   "outputs": [],
   "source": [
    "from wordcloud import WordCloud\n",
    "import matplotlib.pyplot as plt\n",
    "%matplotlib inline\n",
    "\n",
    "# 파일 읽기\n",
    "f = open(\"/home/jwlee_icc/word_count/word_count_output\", 'r')\n",
    "lines = f.readlines()\n",
    "\n",
    "word_count_result = dict() # word_cout 결과 저장 위한 자료형\n",
    "for line in lines: # line 한 줄 씩 읽음\n",
    "    \n",
    "    # UTF-8로 인코딩, 개행문자 삭제, \":\"을 기준으로 문자 나누기\n",
    "    line = line.strip().split(\":\") \n",
    "    \n",
    "    word =''.join(line[:-1]) # count를 제외한 나머지 문자 다시 합치기\n",
    "    count = int(line[-1]) # count만 추출\n",
    "    word_count_result[word] = count # {keyword: count}형식으로 저장\n",
    "f.close()\n",
    "\n",
    "# word cloud 설정\n",
    "wordcloud = WordCloud(\n",
    "    font_path = '/usr/share/fonts/truetype/nanum/NanumBarunGothic.ttf',\n",
    "    width = 800,\n",
    "    height = 800,\n",
    "    background_color=\"white\",\n",
    ")\n",
    "\n",
    "# word cloud 만들기\n",
    "wordcloud = wordcloud.generate_from_frequencies(word_count_result)\n",
    "plt.figure(figsize=(10, 10))\n",
    "plt.imshow(wordcloud, interpolation=\"bilinear\")\n",
    "plt.axis(\"off\")\n",
    "plt.show()\n"
   ]
  }
 ],
 "metadata": {
  "kernelspec": {
   "display_name": "Python 3",
   "language": "python",
   "name": "python3"
  },
  "language_info": {
   "codemirror_mode": {
    "name": "ipython",
    "version": 3
   },
   "file_extension": ".py",
   "mimetype": "text/x-python",
   "name": "python",
   "nbconvert_exporter": "python",
   "pygments_lexer": "ipython3",
   "version": "3.6.12"
  }
 },
 "nbformat": 4,
 "nbformat_minor": 2
}
